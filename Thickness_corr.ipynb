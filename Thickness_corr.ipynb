{
 "cells": [
  {
   "cell_type": "markdown",
   "id": "bf705e66",
   "metadata": {},
   "source": [
    "# Processing ice thickness data\n",
    "\n",
    "Adusumilli et al., (2020) provide ice thickness, altimetry-derived height and firn depth as anomalied with respect to the 2010-2018 mean. These values need to be corrected and represented from 2016-2018 as raw thickness change, raw height change, and raw firn column change.\n",
    "\n",
    "Because ice thickness is calculated using both the height and firn column products, I need to make sure these are corrected into the raw change products first, before calculating ice thickness."
   ]
  },
  {
   "cell_type": "code",
   "execution_count": 83,
   "id": "24351891",
   "metadata": {},
   "outputs": [],
   "source": [
    "import os\n",
    "import numpy as np\n",
    "import rasterio as rio\n",
    "from rasterio import transform\n",
    "from rasterio.transform import from_origin\n",
    "from rasterio.enums import Resampling\n",
    "from rasterio.plot import show\n",
    "from osgeo import gdal \n",
    "import geopandas as gpd\n",
    "import pandas as pd\n",
    "from shapely.geometry import Point, Polygon\n",
    "import matplotlib.pyplot as plt\n",
    "from fnmatch import fnmatch\n",
    "from rasterio.transform import Affine\n",
    "from matplotlib_scalebar.scalebar import ScaleBar\n",
    "import h5py"
   ]
  },
  {
   "cell_type": "markdown",
   "id": "b26b8847",
   "metadata": {},
   "source": [
    "Define function for writing to raster"
   ]
  },
  {
   "cell_type": "code",
   "execution_count": 84,
   "id": "85b2f7e0",
   "metadata": {},
   "outputs": [],
   "source": [
    "def writeNpToRaster(array, path, name, trans):\n",
    "    r = rio.open(path + str(name) + '.tif', # save filepath for save\n",
    "        'w', # 'write' mode\n",
    "        driver = 'GTiff', # produces a .tif\n",
    "        height = array.shape[0], # y len\n",
    "        width = array.shape[1], # x len\n",
    "        count = 1, # number of bands\n",
    "        dtype = array.dtype, # get datatype from input array (float)\n",
    "        crs = 'EPSG:3031', # polar crs\n",
    "        transform = trans) # transform to projection of another rio DataReader object\n",
    "    r.write(array,1)\n",
    "    r.close()"
   ]
  },
  {
   "cell_type": "markdown",
   "id": "8892e618",
   "metadata": {},
   "source": [
    "Get directories"
   ]
  },
  {
   "cell_type": "code",
   "execution_count": 85,
   "id": "3c29dcd7",
   "metadata": {},
   "outputs": [],
   "source": [
    "# altimetry height anomalies\n",
    "heightAnomDir = os.listdir('/Users/louie.bell/Cambridge/mphil/Essay (Practical) 3/data/basal melt/dh_dt/dh_anoms')\n",
    "heightAnomFiles = [file for file in heightAnomDir if fnmatch(file, '*.tif')]\n",
    "\n",
    "# firn anomalies\n",
    "firnAnomDir = os.listdir('/Users/louie.bell/Cambridge/mphil/Essay (Practical) 3/data/basal melt/dair_dt/d_air_anoms')\n",
    "firnAnomFiles = [file for file in firnAnomDir if fnmatch(file, '*.tif')]"
   ]
  },
  {
   "cell_type": "markdown",
   "id": "15d83bab",
   "metadata": {},
   "source": [
    "This is a tricky bit, my files are not sorted properly. So I need to order them according to their chronological month order, and **then** I can loop through and calculate the difference.\n",
    "If I set up an ordered lookup list for the filenames, then I can output them in order."
   ]
  },
  {
   "cell_type": "code",
   "execution_count": 86,
   "id": "02a8a240",
   "metadata": {},
   "outputs": [
    {
     "name": "stdout",
     "output_type": "stream",
     "text": [
      "['2016DJF', '2016MAM', '2016JJA', '2016SON', '2017DJF', '2017MAM', '2017JJA', '2017SON', '2018DJF', '2018MAM', '2018JJA', '2018SON']\n"
     ]
    }
   ],
   "source": [
    "years = ['2016', '2017', '2018']\n",
    "seasons = ['DJF', 'MAM', 'JJA', 'SON']\n",
    "ys = []\n",
    "for year in years:\n",
    "    for season in seasons:\n",
    "        ys.append(year+season)\n",
    "print(ys)"
   ]
  },
  {
   "cell_type": "markdown",
   "id": "d024a307",
   "metadata": {},
   "source": [
    "So for value index 0, the change between that and zero is relatively large given the smaller changes afterwards. It doesn't make change to subtract zero from index zero because that isn't the raw height change. I need to track the changes **from** index 1 afterwards.\n",
    "\n",
    "So below I loop to compute the differences starting at index 1, not zero."
   ]
  },
  {
   "cell_type": "markdown",
   "id": "6ed29b30",
   "metadata": {},
   "source": [
    "i.e."
   ]
  },
  {
   "cell_type": "code",
   "execution_count": 87,
   "id": "16d21740",
   "metadata": {},
   "outputs": [
    {
     "name": "stdout",
     "output_type": "stream",
     "text": [
      "Calculation 1:\n",
      "\t2016MAM-2016DJF\n",
      "Calculation 2:\n",
      "\t2016JJA-2016MAM\n",
      "Calculation 3:\n",
      "\t2016SON-2016JJA\n",
      "Calculation 4:\n",
      "\t2017DJF-2016SON\n",
      "Calculation 5:\n",
      "\t2017MAM-2017DJF\n",
      "Calculation 6:\n",
      "\t2017JJA-2017MAM\n",
      "Calculation 7:\n",
      "\t2017SON-2017JJA\n",
      "Calculation 8:\n",
      "\t2018DJF-2017SON\n",
      "Calculation 9:\n",
      "\t2018MAM-2018DJF\n",
      "Calculation 10:\n",
      "\t2018JJA-2018MAM\n",
      "Calculation 11:\n",
      "\t2018SON-2018JJA\n"
     ]
    }
   ],
   "source": [
    "for i in range(1,12):\n",
    "    print(f'Calculation {i}:')\n",
    "    print(f'\\t{ys[i]}-{ys[i-1]}')"
   ]
  },
  {
   "cell_type": "code",
   "execution_count": 88,
   "id": "9465c9f9",
   "metadata": {},
   "outputs": [
    {
     "name": "stdout",
     "output_type": "stream",
     "text": [
      "\tDoing file: \n",
      "2016MAM-2016DJF\n",
      "Writing file 2016MAM\n",
      "\tDoing file: \n",
      "2016JJA-2016MAM\n",
      "Writing file 2016JJA\n",
      "\tDoing file: \n",
      "2016SON-2016JJA\n",
      "Writing file 2016SON\n",
      "\tDoing file: \n",
      "2017DJF-2016SON\n",
      "Writing file 2017DJF\n",
      "\tDoing file: \n",
      "2017MAM-2017DJF\n",
      "Writing file 2017MAM\n",
      "\tDoing file: \n",
      "2017JJA-2017MAM\n",
      "Writing file 2017JJA\n",
      "\tDoing file: \n",
      "2017SON-2017JJA\n",
      "Writing file 2017SON\n",
      "\tDoing file: \n",
      "2018DJF-2017SON\n",
      "Writing file 2018DJF\n",
      "\tDoing file: \n",
      "2018MAM-2018DJF\n",
      "Writing file 2018MAM\n",
      "\tDoing file: \n",
      "2018JJA-2018MAM\n",
      "Writing file 2018JJA\n",
      "\tDoing file: \n",
      "2018SON-2018JJA\n",
      "Writing file 2018SON\n"
     ]
    }
   ],
   "source": [
    "# dh height\n",
    "dh_anom_path = '/Users/louie.bell/Cambridge/mphil/Essay (Practical) 3/data/basal melt/dh_dt/dh_anoms/'\n",
    "dhrawPath = '/Users/louie.bell/Cambridge/mphil/Essay (Practical) 3/data/basal melt/dh_dt/dh_raw/'\n",
    "\n",
    "transform = Affine(10000.00, 0.00,-2040000.00, 0.00,-10000.00, 820000.00)\n",
    "\n",
    "for i in range(1, 12): # starting at index 1 NOT ZERO\n",
    "    \n",
    "    print(f'\\tDoing file: \\n{ys[i]}-{ys[i-1]}') # we're now working to an ordered index\n",
    "    \n",
    "    with rio.open(dh_anom_path + ys[i] + '_alt_corr_cropped.tif') as src1, rio.open(dh_anom_path + ys[i-1] + '_alt_corr_cropped.tif') as src0:\n",
    "        \n",
    "        data = src1.read(1, masked = True)\n",
    "        \n",
    "        data = np.delete(data,32,1) # remove excess column\n",
    "        data = np.delete(data,range(35,48),0) # remove lower rows\n",
    "        \n",
    "        data0 = src0.read(1, masked = True)\n",
    "        \n",
    "        data0 = np.delete(data0,32,1) # remove excess column\n",
    "        data0 = np.delete(data0,range(35,48),0) # remove lower rows\n",
    "        \n",
    "        change = data-data0 # calculate raw height change from anomaly differences\n",
    "        \n",
    "        name = ys[i]\n",
    "        print(f'Writing file {name}')\n",
    "        \n",
    "        writeNpToRaster(change, dhrawPath, name, transform)"
   ]
  },
  {
   "cell_type": "markdown",
   "id": "30f11b5a",
   "metadata": {},
   "source": [
    "Now let's check the change between raw and corrected data"
   ]
  },
  {
   "cell_type": "code",
   "execution_count": 89,
   "id": "f196032c",
   "metadata": {},
   "outputs": [
    {
     "name": "stdout",
     "output_type": "stream",
     "text": [
      "-0.013129493864435725\n",
      "-0.01276932847572136\n",
      "0.00036016538871436535\n"
     ]
    }
   ],
   "source": [
    "anomdjf = rio.open('/Users/louie.bell/Cambridge/mphil/Essay (Practical) 3/data/basal melt/dh_dt/dh_anoms/2016DJF_alt_corr_cropped.tif')\n",
    "anommam = rio.open('/Users/louie.bell/Cambridge/mphil/Essay (Practical) 3/data/basal melt/dh_dt/dh_anoms/2016MAM_alt_corr_cropped.tif')\n",
    "diff = rio.open('/Users/louie.bell/Cambridge/mphil/Essay (Practical) 3/data/basal melt/dh_dt/dh_raw/2016MAM.tif')\n",
    "\n",
    "print(anomdjf.read(1)[17,30])\n",
    "print(anommam.read(1)[17,30])\n",
    "print(diff.read(1)[17,30])"
   ]
  },
  {
   "cell_type": "markdown",
   "id": "04647d5f",
   "metadata": {},
   "source": [
    "Now repeat for firn difference"
   ]
  },
  {
   "cell_type": "code",
   "execution_count": 90,
   "id": "62fb68cf",
   "metadata": {},
   "outputs": [
    {
     "name": "stdout",
     "output_type": "stream",
     "text": [
      "\tDoing file: \n",
      "2016MAM-2016DJF\n",
      "Writing file 2016MAM\n",
      "\tDoing file: \n",
      "2016JJA-2016MAM\n",
      "Writing file 2016JJA\n",
      "\tDoing file: \n",
      "2016SON-2016JJA\n",
      "Writing file 2016SON\n",
      "\tDoing file: \n",
      "2017DJF-2016SON\n",
      "Writing file 2017DJF\n",
      "\tDoing file: \n",
      "2017MAM-2017DJF\n",
      "Writing file 2017MAM\n",
      "\tDoing file: \n",
      "2017JJA-2017MAM\n",
      "Writing file 2017JJA\n",
      "\tDoing file: \n",
      "2017SON-2017JJA\n",
      "Writing file 2017SON\n",
      "\tDoing file: \n",
      "2018DJF-2017SON\n",
      "Writing file 2018DJF\n",
      "\tDoing file: \n",
      "2018MAM-2018DJF\n",
      "Writing file 2018MAM\n",
      "\tDoing file: \n",
      "2018JJA-2018MAM\n",
      "Writing file 2018JJA\n",
      "\tDoing file: \n",
      "2018SON-2018JJA\n",
      "Writing file 2018SON\n"
     ]
    }
   ],
   "source": [
    "# dh height\n",
    "dair_anom_path = '/Users/louie.bell/Cambridge/mphil/Essay (Practical) 3/data/basal melt/dair_dt/d_air_anoms/'\n",
    "dair_rawPath = '/Users/louie.bell/Cambridge/mphil/Essay (Practical) 3/data/basal melt/dair_dt/d_air_raw/'\n",
    "\n",
    "transform = Affine(10000.00, 0.00,-2040000.00, 0.00,-10000.00, 820000.00)\n",
    "\n",
    "for i in range(1, 12): # starting at index 1 NOT ZERO\n",
    "    \n",
    "    print(f'\\tDoing file: \\n{ys[i]}-{ys[i-1]}') # we're now working to an ordered index\n",
    "    \n",
    "    with rio.open(dair_anom_path + ys[i] + '_firn_corr_cropped.tif') as src1, rio.open(dair_anom_path + ys[i-1] + '_firn_corr_cropped.tif') as src0:\n",
    "        \n",
    "        data = src1.read(1, masked = True)\n",
    "        \n",
    "        data = np.delete(data,32,1) # remove excess column\n",
    "        data = np.delete(data,range(35,48),0) # remove lower rows\n",
    "        \n",
    "        data0 = src0.read(1, masked = True)\n",
    "        \n",
    "        data0 = np.delete(data0,32,1) # remove excess column\n",
    "        data0 = np.delete(data0,range(35,48),0) # remove lower rows\n",
    "        \n",
    "        change = data-data0 # calculate raw height change from anomaly differences\n",
    "        \n",
    "        name = ys[i]\n",
    "        print(f'Writing file {name}')\n",
    "        \n",
    "        writeNpToRaster(change, dair_rawPath, name, transform)"
   ]
  },
  {
   "cell_type": "code",
   "execution_count": 91,
   "id": "916eff1f",
   "metadata": {},
   "outputs": [
    {
     "name": "stdout",
     "output_type": "stream",
     "text": [
      "0.0007076673674859248\n",
      "0.0009803167289191657\n",
      "Difference: 0.0002726493614332409\n"
     ]
    }
   ],
   "source": [
    "anomdjf = rio.open('/Users/louie.bell/Cambridge/mphil/Essay (Practical) 3/data/basal melt/dair_dt/d_air_anoms/2016DJF_firn_corr_cropped.tif')\n",
    "anommam = rio.open('/Users/louie.bell/Cambridge/mphil/Essay (Practical) 3/data/basal melt/dair_dt/d_air_anoms/2016MAM_firn_corr_cropped.tif')\n",
    "diff = rio.open('/Users/louie.bell/Cambridge/mphil/Essay (Practical) 3/data/basal melt/dair_dt/d_air_raw/2016MAM.tif')\n",
    "\n",
    "print(anomdjf.read(1)[17,30])\n",
    "print(anommam.read(1)[17,30])\n",
    "print('Difference: ' + str(diff.read(1)[17,30]))"
   ]
  },
  {
   "cell_type": "markdown",
   "id": "5d6b2d57",
   "metadata": {},
   "source": [
    "So now, working to the **same** lookup file list, I need to calculate the height change."
   ]
  },
  {
   "cell_type": "code",
   "execution_count": 92,
   "id": "19d68ae3",
   "metadata": {},
   "outputs": [
    {
     "name": "stdout",
     "output_type": "stream",
     "text": [
      "Doing file 2016MAM\n",
      "Doing file 2016JJA\n",
      "Doing file 2016SON\n",
      "Doing file 2017DJF\n",
      "Doing file 2017MAM\n",
      "Doing file 2017JJA\n",
      "Doing file 2017SON\n",
      "Doing file 2018DJF\n",
      "Doing file 2018MAM\n",
      "Doing file 2018JJA\n",
      "Doing file 2018SON\n"
     ]
    }
   ],
   "source": [
    "# get height change\n",
    "dh_dir = os.listdir('/Users/louie.bell/Cambridge/mphil/Essay (Practical) 3/data/basal melt/dh_dt/dh_raw')\n",
    "dh_path = '/Users/louie.bell/Cambridge/mphil/Essay (Practical) 3/data/basal melt/dh_dt/dh_raw/'\n",
    "dh_files = [file for file in dh_dir if fnmatch(file, '*.tif')]\n",
    "\n",
    "air_dir = os.listdir('/Users/louie.bell/Cambridge/mphil/Essay (Practical) 3/data/basal melt/dair_dt/d_air_raw')\n",
    "air_path = '/Users/louie.bell/Cambridge/mphil/Essay (Practical) 3/data/basal melt/dair_dt/d_air_raw/'\n",
    "air_files = [file for file in air_dir if fnmatch(file, '*.tif')]\n",
    "\n",
    "output_path = '/Users/louie.bell/Cambridge/mphil/Essay (Practical) 3/data/basal melt/thickness/thickness_raw/'\n",
    "\n",
    "rho_ow = 1028 # density of ocean water\n",
    "rho_ice = 917 # density of ice\n",
    "\n",
    "for i in range(1,12): # 3 years' worth of seasons starting at index 1 NOT ZERO\n",
    "    \n",
    "    name = ys[i] # get filename\n",
    "    \n",
    "    print(f'Doing file {ys[i]}')\n",
    "    \n",
    "    dh = dh_path + ys[i] + '.tif' # get raw height change INDEXED\n",
    "    \n",
    "    air = air_path + ys[i] + '.tif' # get raw firn change INDEXED\n",
    "    \n",
    "    with rio.open(dh) as dh_src, rio.open(air) as air_src:\n",
    "        \n",
    "        dh_data = dh_src.read(1)\n",
    "        \n",
    "        air_data = air_src.read(1)\n",
    "        \n",
    "    thickness = (dh_data - air_data)*(1+rho_ice/(rho_ow - rho_ice)) # calculate ice thickness change\n",
    "    \n",
    "    trans = Affine(10000.0, 0.0, -2040000.0,0.0, -10000.0, 820000.0)\n",
    "    \n",
    "    writeNpToRaster(thickness, output_path, name, trans)    "
   ]
  },
  {
   "cell_type": "code",
   "execution_count": 93,
   "id": "6d162f53",
   "metadata": {},
   "outputs": [
    {
     "data": {
      "image/png": "[encoded data removed]",
      "text/plain": [
       "<Figure size 640x480 with 2 Axes>"
      ]
     },
     "metadata": {},
     "output_type": "display_data"
    }
   ],
   "source": [
    "# now for the moment of truth\n",
    "with rio.open('/Users/louie.bell/Cambridge/mphil/Essay (Practical) 3/data/basal melt/dh_dt/dh_raw/2017JJA.tif') as thickness:\n",
    "    th = thickness.read(1, masked = True)\n",
    "    fig,ax =plt.subplots()\n",
    "    plt.imshow(th, cmap = 'viridis')\n",
    "    hid = ax.imshow(th, cmap = 'viridis')\n",
    "    plt.colorbar(hid,ax=ax)"
   ]
  },
  {
   "cell_type": "code",
   "execution_count": null,
   "id": "1de3247c",
   "metadata": {},
   "outputs": [],
   "source": []
  }
 ],
 "metadata": {
  "kernelspec": {
   "display_name": "gdaltest",
   "language": "python",
   "name": "gdaltest"
  },
  "language_info": {
   "codemirror_mode": {
    "name": "ipython",
    "version": 3
   },
   "file_extension": ".py",
   "mimetype": "text/x-python",
   "name": "python",
   "nbconvert_exporter": "python",
   "pygments_lexer": "ipython3",
   "version": "3.9.18"
  }
 },
 "nbformat": 4,
 "nbformat_minor": 5
}
