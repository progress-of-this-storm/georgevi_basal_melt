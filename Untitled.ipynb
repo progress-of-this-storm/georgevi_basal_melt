{
 "cells": [
  {
   "cell_type": "code",
   "execution_count": 18,
   "id": "34a377c4",
   "metadata": {},
   "outputs": [],
   "source": [
    "import os\n",
    "import rasterio as rio\n",
    "import matplotlib.pyplot as plt\n",
    "import numpy as np\n",
    "from rasterio import transform\n",
    "from rasterio.transform import from_origin\n",
    "from rasterio.plot import show\n",
    "from fnmatch import fnmatch\n",
    "import geopandas as gpd\n",
    "from rasterio.enums import Resampling\n",
    "from rasterio.transform import Affine"
   ]
  },
  {
   "cell_type": "code",
   "execution_count": 19,
   "id": "cb75f076",
   "metadata": {},
   "outputs": [],
   "source": [
    "# cropRaster function\n",
    "# source: https://gis.stackexchange.com/questions/446462/crop-raster-with-shapefile\n",
    "def writeNpToRaster(array, path, name, trans):\n",
    "    r = rio.open(path + str(name) + '.tif', # save filepath for save\n",
    "        'w', # 'write' mode\n",
    "        driver = 'GTiff', # produces a .tif\n",
    "        height = array.shape[0], # y len\n",
    "        width = array.shape[1], # x len\n",
    "        count = 1, # number of bands\n",
    "        dtype = array.dtype, # get datatype from input array (float)\n",
    "        crs = 'EPSG:3031', # polar crs\n",
    "        transform = trans) # transform to projection of another rio DataReader object\n",
    "    r.write(array,1)\n",
    "    r.close()\n",
    "    \n",
    "def read_Resample(r, factor):\n",
    "    with rio.open(r) as src:\n",
    "        data = src.read(1, out_shape = (src.count,\n",
    "                                    int(src.height * factor),\n",
    "                                    int(src.width * factor)\n",
    "                                    ),\n",
    "                        resampling = Resampling.bilinear\n",
    "                       )\n",
    "        # scale image transform\n",
    "        transform = src.transform * src.transform.scale(\n",
    "            (src.width / data.shape[-1]),\n",
    "            (src.height / data.shape[-2])\n",
    "        )\n",
    "    return [data, transform]\n",
    "    \n",
    "# source: https://gis.stackexchange.com/questions/446462/crop-raster-with-shapefile\n",
    "def cropRaster(r, shp, name, path):\n",
    "    from rasterio.mask import mask\n",
    "    \n",
    "    with rio.open(r) as src:\n",
    "        out_image, out_transform = mask(src, shp, crop = True, filled = True) # setting all pixels outside of the feature zone to zero\n",
    "        out_meta = src.meta\n",
    "\n",
    "    out_meta.update({\"driver\": \"GTiff\",\n",
    "    \"height\": out_image.shape[1],\n",
    "    \"width\": out_image.shape[2],\n",
    "    \"crs\":'EPSG:3031',\n",
    "    \"nodata\":-9999,\n",
    "    \"transform\": out_transform})\n",
    "\n",
    "    output_file = f'{path}{name}_cropped.tif'\n",
    "\n",
    "    with rio.open(output_file, \"w\", **out_meta) as dest:\n",
    "        dest.write(out_image)\n",
    "        dest.close()"
   ]
  },
  {
   "cell_type": "markdown",
   "id": "aa055c8a",
   "metadata": {},
   "source": [
    "Here I calculate the divergence of the velocity field scaled by the change in ice thickness.\n",
    "\n",
    "Firstly I get the easting and northing (horizontal and vertical velocity components)."
   ]
  },
  {
   "cell_type": "code",
   "execution_count": 25,
   "id": "56e9af85",
   "metadata": {},
   "outputs": [],
   "source": [
    "# get list of eastings and northing velocities\n",
    "directory = os.listdir('/Users/louie.bell/Cambridge/mphil/Essay (Practical) 3/data/Seasonal_ENVEO_velocity_grids/grids_2016_2018')\n",
    "directory.remove('.DS_Store')\n",
    "\n",
    "def first_16_chars(x): # function to return dates of ENVEO imgs\n",
    "    return(x[:16])\n",
    "\n",
    "eastings = [] # set empty lists\n",
    "northings = []\n",
    "\n",
    "for fname in directory:\n",
    "    if fnmatch(fname,'*northing.tif'):\n",
    "        northings.append(fname) # separate out the easting and northing\n",
    "    else:\n",
    "        eastings.append(fname)\n",
    "\n",
    "eastings = sorted(eastings, key = first_16_chars) # sort by date\n",
    "northings = sorted(northings, key = first_16_chars)\n",
    "EastSorted = []\n",
    "NorthSorted = []\n",
    "path = '/Users/louie.bell/Cambridge/mphil/Essay (Practical) 3/data/Seasonal_ENVEO_velocity_grids/grids_2016_2018/'\n",
    "\n",
    "for fname in eastings: \n",
    "    imgE = path + str(fname) # add full readable path back to listed file\n",
    "    EastSorted.append(imgE)\n",
    "    \n",
    "for fname in northings:\n",
    "    imgN = path + str(fname)\n",
    "    NorthSorted.append(imgN)"
   ]
  },
  {
   "cell_type": "markdown",
   "id": "0c525f42",
   "metadata": {},
   "source": [
    "Set the dates we're working with:"
   ]
  },
  {
   "cell_type": "code",
   "execution_count": 26,
   "id": "334b2668",
   "metadata": {},
   "outputs": [],
   "source": [
    "years = ['2016', '2017', '2018']\n",
    "seasons = ['DJF', 'MAM', 'JJA', 'SON']\n",
    "ys = []\n",
    "for year in years:\n",
    "    for season in seasons:\n",
    "        ys.append(year+season)\n",
    "ys.remove('2016DJF')"
   ]
  },
  {
   "cell_type": "markdown",
   "id": "57ac845a",
   "metadata": {},
   "source": [
    "Get GeorgeVI geoms"
   ]
  },
  {
   "cell_type": "code",
   "execution_count": 27,
   "id": "65b799cd",
   "metadata": {},
   "outputs": [],
   "source": [
    "georgevi = gpd.read_file('/Users/louie.bell/Cambridge/mphil/Essay (Practical) 3/data/SCAR_coastline_product/georgeVI_poly.shp')\n",
    "geoms = []\n",
    "for i in range(len(georgevi)):\n",
    "    geom = georgevi.loc[i]['geometry']\n",
    "    geoms.append(geom)"
   ]
  },
  {
   "cell_type": "markdown",
   "id": "f2bc1259",
   "metadata": {},
   "source": [
    "I need to resample these to 10x10km and crop them to make them viable with the H scaling factor"
   ]
  },
  {
   "cell_type": "markdown",
   "id": "78e76cc8",
   "metadata": {},
   "source": [
    "Next I get the change in ice thickness dH:"
   ]
  },
  {
   "cell_type": "code",
   "execution_count": null,
   "id": "373a6cc5",
   "metadata": {},
   "outputs": [],
   "source": [
    "# get thickness directory and paths\n",
    "Hdir = os.listdir('/Users/louie.bell/Cambridge/mphil/Essay (Practical) 3/data/basal melt/thickness/thickness_raw')\n",
    "Hfile = [file for file in Hdir if fnmatch(file, '*.tif')]\n",
    "Hpath = '/Users/louie.bell/Cambridge/mphil/Essay (Practical) 3/data/basal melt/thickness/thickness_raw/'"
   ]
  },
  {
   "cell_type": "markdown",
   "id": "5b71a07b",
   "metadata": {},
   "source": [
    "Now I compute the divergence of the velocity grid scaled by dH:"
   ]
  },
  {
   "cell_type": "code",
   "execution_count": 32,
   "id": "ea1e556e",
   "metadata": {
    "collapsed": true
   },
   "outputs": [
    {
     "name": "stdout",
     "output_type": "stream",
     "text": [
      "Doing file /Users/louie.bell/Cambridge/mphil/Essay (Practical) 3/data/Seasonal_ENVEO_velocity_grids/grids_2016_2018/2016-03_2016-05_seasonal_mean_easting.tif\n",
      "Doing file /Users/louie.bell/Cambridge/mphil/Essay (Practical) 3/data/Seasonal_ENVEO_velocity_grids/grids_2016_2018/2016-03_2016-05_seasonal_mean_northing.tif\n",
      "Doing file /Users/louie.bell/Cambridge/mphil/Essay (Practical) 3/data/Seasonal_ENVEO_velocity_grids/grids_2016_2018/2016-06_2016-08_seasonal_mean_easting.tif\n",
      "Doing file /Users/louie.bell/Cambridge/mphil/Essay (Practical) 3/data/Seasonal_ENVEO_velocity_grids/grids_2016_2018/2016-06_2016-08_seasonal_mean_northing.tif\n",
      "Doing file /Users/louie.bell/Cambridge/mphil/Essay (Practical) 3/data/Seasonal_ENVEO_velocity_grids/grids_2016_2018/2016-09_2016-11_seasonal_mean_easting.tif\n",
      "Doing file /Users/louie.bell/Cambridge/mphil/Essay (Practical) 3/data/Seasonal_ENVEO_velocity_grids/grids_2016_2018/2016-09_2016-11_seasonal_mean_northing.tif\n",
      "Doing file /Users/louie.bell/Cambridge/mphil/Essay (Practical) 3/data/Seasonal_ENVEO_velocity_grids/grids_2016_2018/2016-12_2017-02_seasonal_mean_easting.tif\n",
      "Doing file /Users/louie.bell/Cambridge/mphil/Essay (Practical) 3/data/Seasonal_ENVEO_velocity_grids/grids_2016_2018/2016-12_2017-02_seasonal_mean_northing.tif\n",
      "Doing file /Users/louie.bell/Cambridge/mphil/Essay (Practical) 3/data/Seasonal_ENVEO_velocity_grids/grids_2016_2018/2017-03_2017-05_seasonal_mean_easting.tif\n",
      "Doing file /Users/louie.bell/Cambridge/mphil/Essay (Practical) 3/data/Seasonal_ENVEO_velocity_grids/grids_2016_2018/2017-03_2017-05_seasonal_mean_northing.tif\n",
      "Doing file /Users/louie.bell/Cambridge/mphil/Essay (Practical) 3/data/Seasonal_ENVEO_velocity_grids/grids_2016_2018/2017-06_2017-08_seasonal_mean_easting.tif\n",
      "Doing file /Users/louie.bell/Cambridge/mphil/Essay (Practical) 3/data/Seasonal_ENVEO_velocity_grids/grids_2016_2018/2017-06_2017-08_seasonal_mean_northing.tif\n",
      "Doing file /Users/louie.bell/Cambridge/mphil/Essay (Practical) 3/data/Seasonal_ENVEO_velocity_grids/grids_2016_2018/2017-09_2017-11_seasonal_mean_easting.tif\n",
      "Doing file /Users/louie.bell/Cambridge/mphil/Essay (Practical) 3/data/Seasonal_ENVEO_velocity_grids/grids_2016_2018/2017-09_2017-11_seasonal_mean_northing.tif\n",
      "Doing file /Users/louie.bell/Cambridge/mphil/Essay (Practical) 3/data/Seasonal_ENVEO_velocity_grids/grids_2016_2018/2017-12_2018-02_seasonal_mean_easting.tif\n",
      "Doing file /Users/louie.bell/Cambridge/mphil/Essay (Practical) 3/data/Seasonal_ENVEO_velocity_grids/grids_2016_2018/2017-12_2018-02_seasonal_mean_northing.tif\n",
      "Doing file /Users/louie.bell/Cambridge/mphil/Essay (Practical) 3/data/Seasonal_ENVEO_velocity_grids/grids_2016_2018/2018-03_2018-05_seasonal_mean_easting.tif\n",
      "Doing file /Users/louie.bell/Cambridge/mphil/Essay (Practical) 3/data/Seasonal_ENVEO_velocity_grids/grids_2016_2018/2018-03_2018-05_seasonal_mean_northing.tif\n",
      "Doing file /Users/louie.bell/Cambridge/mphil/Essay (Practical) 3/data/Seasonal_ENVEO_velocity_grids/grids_2016_2018/2018-06_2018-08_seasonal_mean_easting.tif\n",
      "Doing file /Users/louie.bell/Cambridge/mphil/Essay (Practical) 3/data/Seasonal_ENVEO_velocity_grids/grids_2016_2018/2018-06_2018-08_seasonal_mean_northing.tif\n",
      "Doing file /Users/louie.bell/Cambridge/mphil/Essay (Practical) 3/data/Seasonal_ENVEO_velocity_grids/grids_2016_2018/2018-09_2018-11_seasonal_mean_easting.tif\n",
      "Doing file /Users/louie.bell/Cambridge/mphil/Essay (Practical) 3/data/Seasonal_ENVEO_velocity_grids/grids_2016_2018/2018-09_2018-11_seasonal_mean_northing.tif\n"
     ]
    }
   ],
   "source": [
    "divergencePath = '/Users/louie.bell/Cambridge/mphil/Essay (Practical) 3/data/Seasonal_ENVEO_velocity_grids/grids_2016_2018/divergence/'\n",
    "\n",
    "for i in range(0,11):\n",
    "    \n",
    "    with rio.open(EastSorted[i]) as Easting, rio.open(NorthSorted[i]) as Northing:\n",
    "        \n",
    "        vx = Easting.read(1)\n",
    "        vy = Northing.read(1)\n",
    "        \n",
    "        dx = 200 # size of cells\n",
    "        dy = 200 # size of cells to scale the divergence\n",
    "        \n",
    "        print(f'Doing file {EastSorted[i]}')\n",
    "        print(f'Doing file {NorthSorted[i]}')\n",
    "        \n",
    "        divergence = (np.gradient(vx, axis = 0) / dx) + (np.gradient(vy, axis = 1) / dy)\n",
    "        \n",
    "        writeNpToRaster(divergence, divergencePath, ys[i], Easting.transform)"
   ]
  },
  {
   "cell_type": "markdown",
   "id": "2788754d",
   "metadata": {},
   "source": [
    "Now I need to resample and crop this result so I can scale it with the height data"
   ]
  },
  {
   "cell_type": "code",
   "execution_count": null,
   "id": "e746511d",
   "metadata": {},
   "outputs": [],
   "source": [
    "divDir = os.listdir('/Users/louie.bell/Cambridge/mphil/Essay (Practical) 3/data/Seasonal_ENVEO_velocity_grids/grids_2016_2018/divergence')\n",
    "divFiles = [file for file in divDir if fnmatch(file, '*.tif')]\n",
    "divPath = '/Users/louie.bell/Cambridge/mphil/Essay (Practical) 3/data/Seasonal_ENVEO_velocity_grids/grids_2016_2018/divergence/'\n",
    "resamplePath = '/Users/louie.bell/Cambridge/mphil/Essay (Practical) 3/data/Seasonal_ENVEO_velocity_grids/grids_2016_2018/resampled/'\n",
    "cropPath = '/Users/louie.bell/Cambridge/mphil/Essay (Practical) 3/data/Seasonal_ENVEO_velocity_grids/grids_2016_2018/cropped/'\n",
    "\n",
    "for i in range(0,11):\n",
    "    \n",
    "    print(f'Doing file {divFiles[i]}, {i+1} of 11')\n",
    "    \n",
    "    file = divPath + divFiles[i]\n",
    "    \n",
    "    resampled = read_Resample(file, 1/50)\n",
    "    \n",
    "    name, ext = os.path.splitext()\n",
    "    writeNpToRaster(resampled, resamplePath, )"
   ]
  },
  {
   "cell_type": "code",
   "execution_count": null,
   "id": "b50ea6e9",
   "metadata": {},
   "outputs": [],
   "source": [
    "georgevi = gpd.read_file('/Users/louie.bell/Cambridge/mphil/Essay (Practical) 3/data/SCAR_coastline_product/georgeVI_poly.shp')\n",
    "geoms = []\n",
    "for i in range(len(georgevi)):\n",
    "    geom = georgevi.loc[i]['geometry']\n",
    "    geoms.append(geom)\n",
    "\n",
    "for i in range(len(EastSorted)):\n",
    "    \n",
    "    easting = EastSorted[i]\n",
    "    \n",
    "    northing = NorthSorted[i]\n",
    "    \n",
    "    print(f'\\t Calculating for file {i+1} of {len(EastSorted)}...')\n",
    "    print(f'Doing file: {easting}')\n",
    "    \n",
    "    flxDiv = fluxDiv(easting, northing) # calculate flux divergence\n",
    "    print('Finished calculating')\n",
    "    flxDiv_arr = np.array(flxDiv)\n",
    "    \n",
    "    transform = rio.open(EastSorted[0]).transform # get transform for the grid\n",
    "    print(f'Writing divergence to file: {velSeasons[i]}')\n",
    "    writeNpToRaster(flxDiv_arr, in_path, velSeasons[i], transform)\n",
    "    \n",
    "print('Done')  "
   ]
  },
  {
   "cell_type": "code",
   "execution_count": null,
   "id": "9bd79a93",
   "metadata": {},
   "outputs": [],
   "source": [
    "in_path = '/Users/louie.bell/Cambridge/mphil/Essay (Practical) 3/data/flux_divergence/'\n",
    "sample_in_path = '/Users/louie.bell/Cambridge/mphil/Essay (Practical) 3/data/flux_divergence/flxDiv_resampled/'\n",
    "crop_path = '/Users/louie.bell/Cambridge/mphil/Essay (Practical) 3/data/flux_divergence/flxDiv_cropped/'\n",
    "\n",
    "for i in range(len(EastSorted)):\n",
    "    print(f'\\t File: {in_path}{velSeasons[i]}.tif')\n",
    "    sampledFile = read_Resample(f'{in_path}{velSeasons[i]}.tif', 1/50)\n",
    "    \n",
    "    transform = sampledFile[1] # get transform of input raster\n",
    "    \n",
    "    writeNpToRaster(sampledFile[0], sample_in_path, velSeasons[i], sampledFile[1])\n",
    "    print(f'Cropping raster {velSeasons[i]}')\n",
    "    cropRaster(f'{sample_in_path}{velSeasons[i]}.tif',geoms,velSeasons[i],crop_path)\n",
    "print('\\t Done!')"
   ]
  }
 ],
 "metadata": {
  "kernelspec": {
   "display_name": "gdaltest",
   "language": "python",
   "name": "gdaltest"
  },
  "language_info": {
   "codemirror_mode": {
    "name": "ipython",
    "version": 3
   },
   "file_extension": ".py",
   "mimetype": "text/x-python",
   "name": "python",
   "nbconvert_exporter": "python",
   "pygments_lexer": "ipython3",
   "version": "3.9.18"
  }
 },
 "nbformat": 4,
 "nbformat_minor": 5
}
